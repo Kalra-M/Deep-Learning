{
 "cells": [
  {
   "cell_type": "markdown",
   "metadata": {
    "id": "PdM24JMkSI0N"
   },
   "source": [
    "# Artificial Neural Network"
   ]
  },
  {
   "cell_type": "code",
   "execution_count": 1,
   "metadata": {
    "id": "62yk82TkSGuC"
   },
   "outputs": [],
   "source": [
    "import numpy as np\n",
    "import tensorflow as tf\n",
    "import tensorflow_datasets as tfds\n",
    "from keras.utils.vis_utils import plot_model"
   ]
  },
  {
   "cell_type": "code",
   "execution_count": 2,
   "metadata": {
    "id": "SS5NPhTHSOUL"
   },
   "outputs": [],
   "source": [
    "dataset, info = tfds.load(name='mnist', with_info=True, as_supervised=True)"
   ]
  },
  {
   "cell_type": "code",
   "execution_count": 3,
   "metadata": {
    "colab": {
     "base_uri": "https://localhost:8080/"
    },
    "id": "jDr29WYgSbh9",
    "outputId": "1ba0cf1d-b371-4bbd-8066-b62de12abe57"
   },
   "outputs": [
    {
     "data": {
      "text/plain": [
       "tfds.core.DatasetInfo(\n",
       "    name='mnist',\n",
       "    version=3.0.1,\n",
       "    description='The MNIST database of handwritten digits.',\n",
       "    homepage='http://yann.lecun.com/exdb/mnist/',\n",
       "    features=FeaturesDict({\n",
       "        'image': Image(shape=(28, 28, 1), dtype=tf.uint8),\n",
       "        'label': ClassLabel(shape=(), dtype=tf.int64, num_classes=10),\n",
       "    }),\n",
       "    total_num_examples=70000,\n",
       "    splits={\n",
       "        'test': 10000,\n",
       "        'train': 60000,\n",
       "    },\n",
       "    supervised_keys=('image', 'label'),\n",
       "    citation=\"\"\"@article{lecun2010mnist,\n",
       "      title={MNIST handwritten digit database},\n",
       "      author={LeCun, Yann and Cortes, Corinna and Burges, CJ},\n",
       "      journal={ATT Labs [Online]. Available: http://yann.lecun.com/exdb/mnist},\n",
       "      volume={2},\n",
       "      year={2010}\n",
       "    }\"\"\",\n",
       "    redistribution_info=,\n",
       ")"
      ]
     },
     "execution_count": 3,
     "metadata": {},
     "output_type": "execute_result"
    }
   ],
   "source": [
    "info"
   ]
  },
  {
   "cell_type": "code",
   "execution_count": 4,
   "metadata": {
    "id": "6rv9qPigStC-"
   },
   "outputs": [],
   "source": [
    "examples = tfds.as_dataframe(dataset['train'].take(10), info)"
   ]
  },
  {
   "cell_type": "code",
   "execution_count": 5,
   "metadata": {
    "colab": {
     "base_uri": "https://localhost:8080/",
     "height": 387
    },
    "id": "fxk50qD3TVYO",
    "outputId": "77c96c5a-467f-44a4-b047-af77e1c32a3c"
   },
   "outputs": [
    {
     "data": {
      "text/html": [
       "<style  type=\"text/css\" >\n",
       "</style><table id=\"T_226fdc2c_3d49_11ec_9676_0242ac1c0002\" ><thead>    <tr>        <th class=\"blank level0\" ></th>        <th class=\"col_heading level0 col0\" >image</th>        <th class=\"col_heading level0 col1\" >label</th>    </tr></thead><tbody>\n",
       "                <tr>\n",
       "                        <th id=\"T_226fdc2c_3d49_11ec_9676_0242ac1c0002level0_row0\" class=\"row_heading level0 row0\" >0</th>\n",
       "                        <td id=\"T_226fdc2c_3d49_11ec_9676_0242ac1c0002row0_col0\" class=\"data row0 col0\" ><img src=\"data:image/png;base64,iVBORw0KGgoAAAANSUhEUgAAABwAAAAcCAAAAABXZoBIAAAAzElEQVR4nGNgGPQg5F8qjMmEIRn1XwinRvnvp2QxdTIyMjAwMDDksd17jCnpeN6CgYGBQZfhAhbzLP+WMzAwyPz8IAkXQuh8ycDAwMAQyHr1ORZJYQYGBgYGKYYDDFgkAxgZGBikMxnnISQZYQz2J0KXjwvpqV00+YfpnsS/f//++/v3bxiSGAuMYfp97rN3b1cz7MDiEQgI+bcGmYsatlH/T+PUyPD2jwVOOaOP23Br3P3vZyZOO///v7qGARd4/EkBt7FvbuOWoyIAAPBxN9oBRuu9AAAAAElFTkSuQmCC\" alt=\"Img\" /></td>\n",
       "                        <td id=\"T_226fdc2c_3d49_11ec_9676_0242ac1c0002row0_col1\" class=\"data row0 col1\" >4</td>\n",
       "            </tr>\n",
       "            <tr>\n",
       "                        <th id=\"T_226fdc2c_3d49_11ec_9676_0242ac1c0002level0_row1\" class=\"row_heading level0 row1\" >1</th>\n",
       "                        <td id=\"T_226fdc2c_3d49_11ec_9676_0242ac1c0002row1_col0\" class=\"data row1 col0\" ><img src=\"data:image/png;base64,iVBORw0KGgoAAAANSUhEUgAAABwAAAAcCAAAAABXZoBIAAAAmklEQVR4nGNgGOyAc/5KJlxyjIv+/TPEJan9798HWRgH3YhQBoZHj3HpfP/vVxQuOYF//54ieGjGNjEwXMalkeHbv3+eeCTfseAy1oCVYeofXBp3/f8lgUtO/su/azhtnPLvXwJOycv//uGU0//5bx1OySP//hngkuN5+u8tG4oIkj/VJBmO/8Il6cvAMBunlSIvX3DjlKQmAACHtTHZmy2LVAAAAABJRU5ErkJggg==\" alt=\"Img\" /></td>\n",
       "                        <td id=\"T_226fdc2c_3d49_11ec_9676_0242ac1c0002row1_col1\" class=\"data row1 col1\" >1</td>\n",
       "            </tr>\n",
       "            <tr>\n",
       "                        <th id=\"T_226fdc2c_3d49_11ec_9676_0242ac1c0002level0_row2\" class=\"row_heading level0 row2\" >2</th>\n",
       "                        <td id=\"T_226fdc2c_3d49_11ec_9676_0242ac1c0002row2_col0\" class=\"data row2 col0\" ><img src=\"data:image/png;base64,iVBORw0KGgoAAAANSUhEUgAAABwAAAAcCAAAAABXZoBIAAAA+0lEQVR4nM3QvyuEARzH8feVniSFiTBcKf8A85ESNqwkdbeY5NdmY/UXiM0z+Ad0SXZ1g0vJjw0Xi86pc13eD8NleJ47q3zG76tv3x/wJxk+jQ7bf8NldT9obdNl1fWW1nGh6mtLPIm0oJVWlvuIvOvMWx1qtqWa0U2aULNNNnCtT+MQapi0waK6CoR6mcS8Wuhq4Fqj1PZjU5NQnX0DUine433dD1qZBwjOrM/EsVc9AmCj6c5MWT8XADjX2mgMi+otABN1k0/YVncAFu/VLWLbPgNBduRxLBMQHe/FZ+Zs5EtLm8kP9F81MHrZTScNelZK6sFcXzP9o3wDadaKxdoXqEQAAAAASUVORK5CYII=\" alt=\"Img\" /></td>\n",
       "                        <td id=\"T_226fdc2c_3d49_11ec_9676_0242ac1c0002row2_col1\" class=\"data row2 col1\" >0</td>\n",
       "            </tr>\n",
       "            <tr>\n",
       "                        <th id=\"T_226fdc2c_3d49_11ec_9676_0242ac1c0002level0_row3\" class=\"row_heading level0 row3\" >3</th>\n",
       "                        <td id=\"T_226fdc2c_3d49_11ec_9676_0242ac1c0002row3_col0\" class=\"data row3 col0\" ><img src=\"data:image/png;base64,iVBORw0KGgoAAAANSUhEUgAAABwAAAAcCAAAAABXZoBIAAAA40lEQVR4nGNgGJpg//8OdCEWKM2obvgv/++6/zcZnJQebPuNqkjvLxI4IIgiJ3/v79/3b//9/fvv7993f/9NQzE2TZ6hc8J3JwYGBgaGK7cYeJE12n79+1cCxlH9+/cVB5LOlxy/pryHSUYyMO78gSR5W/vzU7gxfAz/cfq36fvfDw445Fr+/P3bg12KMebb37+7WbDKKSz89/fvNRmscjpb//79u0YBq5z0yb9//2bhcEvXv78fs1ixyzX//PsuHYc+gbvwAMcEmX//3kFzJxOc9YCRoesJLp3sx9+p4JIjGQAAnrpmBs0pxioAAAAASUVORK5CYII=\" alt=\"Img\" /></td>\n",
       "                        <td id=\"T_226fdc2c_3d49_11ec_9676_0242ac1c0002row3_col1\" class=\"data row3 col1\" >7</td>\n",
       "            </tr>\n",
       "            <tr>\n",
       "                        <th id=\"T_226fdc2c_3d49_11ec_9676_0242ac1c0002level0_row4\" class=\"row_heading level0 row4\" >4</th>\n",
       "                        <td id=\"T_226fdc2c_3d49_11ec_9676_0242ac1c0002row4_col0\" class=\"data row4 col0\" ><img src=\"data:image/png;base64,iVBORw0KGgoAAAANSUhEUgAAABwAAAAcCAAAAABXZoBIAAABRUlEQVR4nM2RMUgCcRTGvwvFjjiuhqgIpG4Kg8QaQi6aWoo2JXAot6ZokxwdGxybWjJoapLCQRoaJBKkoIJuKDc7DAruIEmH967hvPJ/Nkdv+vh+fI//+/7Afxglyy+qK6UeW1MSg5p2twVp4lUMhGYuLSYiJiIec72AlzqNAVf1klUGYLaF3BqzXdQBbLJtc0Fgsx26ngQARA72miQLMEU08qM/PDkAAIgBC56TQV58apSZ+ex4Pw6k2fQdHly9fSYi7phmi6pRz/4uQZleVyUnPSo5wEPmAv2zYlFto9BgS+tnuRZXNGCJec6PgiWmExXALt8HRDS+U3n6zMkAhgxOCUg+YqJyEgAQp4bayxZr7OS7HYXfebtru8sT8w4MJQwAena4fihsjRjE9Ob+Zftc8ZUQWtan5KTkPN40i9VfCvi7+QIpz4HjFNztwwAAAABJRU5ErkJggg==\" alt=\"Img\" /></td>\n",
       "                        <td id=\"T_226fdc2c_3d49_11ec_9676_0242ac1c0002row4_col1\" class=\"data row4 col1\" >8</td>\n",
       "            </tr>\n",
       "            <tr>\n",
       "                        <th id=\"T_226fdc2c_3d49_11ec_9676_0242ac1c0002level0_row5\" class=\"row_heading level0 row5\" >5</th>\n",
       "                        <td id=\"T_226fdc2c_3d49_11ec_9676_0242ac1c0002row5_col0\" class=\"data row5 col0\" ><img src=\"data:image/png;base64,iVBORw0KGgoAAAANSUhEUgAAABwAAAAcCAAAAABXZoBIAAAAq0lEQVR4nGNgGHjAfvqtEU5Jib9/L7LDOExokvUMDHyiODQG/fv7dyuch6ZTg4HhWTIuK6/9+1uL4KHqjFRlYHiMS+PVv/9e8OHSKcjAMOETDo2xf/5+ZkXisyBLujAx/P6NQ6Phu79/q5AFkO1U4Wdg2IJLkoGBgcEah6kMa/7+/YviVmSdSuiq0Y1dj8NU++9//57HpZOLjYFhK4okUiDsLnS5ewiXY+kGAAwdLIh/5zVbAAAAAElFTkSuQmCC\" alt=\"Img\" /></td>\n",
       "                        <td id=\"T_226fdc2c_3d49_11ec_9676_0242ac1c0002row5_col1\" class=\"data row5 col1\" >1</td>\n",
       "            </tr>\n",
       "            <tr>\n",
       "                        <th id=\"T_226fdc2c_3d49_11ec_9676_0242ac1c0002level0_row6\" class=\"row_heading level0 row6\" >6</th>\n",
       "                        <td id=\"T_226fdc2c_3d49_11ec_9676_0242ac1c0002row6_col0\" class=\"data row6 col0\" ><img src=\"data:image/png;base64,iVBORw0KGgoAAAANSUhEUgAAABwAAAAcCAAAAABXZoBIAAAA8ElEQVR4nGNgoD9ghDGmGDHsePhiJzY17HP+/fv3/9+fE25YJGv/QcFtE0zJ6f/W1BaJSB/49e8cM4akXiVEbMe/f9k43Wf7498LOZyyzf/+2cE5TGiSmxgYdHFKMjAw+DLjknz1hkGFDcZhgdICUgx/bjEwMIiJMPR/R9PgeePfvx+V+mgOgoJf//79+/fvx+qEn/9+mqNL3v/37+kOSABehYgY+cMlE3/92ySh8Pjfv3//fj3d/fTp06dfvyG0Ot759+/o139w8GCxIVJ8+nUrsDL8Ot96g4Ehie3s6Q9vGJAkGRgM9BgO38cMkyEDAJC/dbTfCO84AAAAAElFTkSuQmCC\" alt=\"Img\" /></td>\n",
       "                        <td id=\"T_226fdc2c_3d49_11ec_9676_0242ac1c0002row6_col1\" class=\"data row6 col1\" >2</td>\n",
       "            </tr>\n",
       "            <tr>\n",
       "                        <th id=\"T_226fdc2c_3d49_11ec_9676_0242ac1c0002level0_row7\" class=\"row_heading level0 row7\" >7</th>\n",
       "                        <td id=\"T_226fdc2c_3d49_11ec_9676_0242ac1c0002row7_col0\" class=\"data row7 col0\" ><img src=\"data:image/png;base64,iVBORw0KGgoAAAANSUhEUgAAABwAAAAcCAAAAABXZoBIAAAA0UlEQVR4nGNgGMLA7sL3TGziPBza4RPP//27CCHEAqG4tjH8UhHnYPzPwPAZQ5LTlvE/w48v84XDmX9hSH72ZmBgePjxGYOZyicMyV87ILQAN+NDhCQTqqvUJf874JTUZWC4jE/yFrofGRgYGBj8a6K33fv793ETuoMYGBjmhHMzMP5n+MWGTaPC9lvHjj/9u40Xq7EMvAwM+/7ewy7HwMCg8PnvEyQuqms1uRjWIHFZUCQVGRme45QU/s+wH6exagwPLuGUZGD4+gOP5FoGqgAAaYI4iaIJhbYAAAAASUVORK5CYII=\" alt=\"Img\" /></td>\n",
       "                        <td id=\"T_226fdc2c_3d49_11ec_9676_0242ac1c0002row7_col1\" class=\"data row7 col1\" >7</td>\n",
       "            </tr>\n",
       "            <tr>\n",
       "                        <th id=\"T_226fdc2c_3d49_11ec_9676_0242ac1c0002level0_row8\" class=\"row_heading level0 row8\" >8</th>\n",
       "                        <td id=\"T_226fdc2c_3d49_11ec_9676_0242ac1c0002row8_col0\" class=\"data row8 col0\" ><img src=\"data:image/png;base64,iVBORw0KGgoAAAANSUhEUgAAABwAAAAcCAAAAABXZoBIAAAAqklEQVR4nGNgGBRA4/thKIsJU9KGWVsZl0avh/+eSOOQY9787/dCXBpb/v07hktO88u/354Qpgm6HNeyf/8WQdla6JLh//69scVhqMP3f3/jcdm499+/ibjkMn/+u8+HQ078/r9f2TjkWLb/+3cWl6EG//79CsQluebfv25ccqZf//3D5UWG5f/+7WLFISf24N8/ZzQxeGQLyjEw/MNlKtuUf29UcUnSEQAA9IU8OOTl5ywAAAAASUVORK5CYII=\" alt=\"Img\" /></td>\n",
       "                        <td id=\"T_226fdc2c_3d49_11ec_9676_0242ac1c0002row8_col1\" class=\"data row8 col1\" >1</td>\n",
       "            </tr>\n",
       "            <tr>\n",
       "                        <th id=\"T_226fdc2c_3d49_11ec_9676_0242ac1c0002level0_row9\" class=\"row_heading level0 row9\" >9</th>\n",
       "                        <td id=\"T_226fdc2c_3d49_11ec_9676_0242ac1c0002row9_col0\" class=\"data row9 col0\" ><img src=\"data:image/png;base64,iVBORw0KGgoAAAANSUhEUgAAABwAAAAcCAAAAABXZoBIAAAA4UlEQVR4nNXQr0oEURTH8cOGYRdhJhlk8QUsa7GJig+wZTEMNkWDGAwmiy9gGxA2WBaD2CxbFpZ5BcVi2CriKsKUW76/uQaLzN7bLJ54Pudw/pj9VbT7ZX8lhjdAEaZkKHD7YTxFzA7CtjVDL6thy0rpdSOyzC3QjdiRwx1GzASjmOVimsbwudZlzNYr0TPL9sbT4wXcQU9Lye4nwHUA75IzBPC19pNr/S4orswezs3S5WanaknKs1Ly243OeeW9fx/oftP7yWNz6InAvQmYdxaPEYBwo9ArLgA+il6A/kV8A83dcnYN8l6lAAAAAElFTkSuQmCC\" alt=\"Img\" /></td>\n",
       "                        <td id=\"T_226fdc2c_3d49_11ec_9676_0242ac1c0002row9_col1\" class=\"data row9 col1\" >6</td>\n",
       "            </tr>\n",
       "    </tbody></table>"
      ],
      "text/plain": [
       "                                               image  label\n",
       "0  [[[0], [0], [0], [0], [0], [0], [0], [0], [0],...      4\n",
       "1  [[[0], [0], [0], [0], [0], [0], [0], [0], [0],...      1\n",
       "2  [[[0], [0], [0], [0], [0], [0], [0], [0], [0],...      0\n",
       "3  [[[0], [0], [0], [0], [0], [0], [0], [0], [0],...      7\n",
       "4  [[[0], [0], [0], [0], [0], [0], [0], [0], [0],...      8\n",
       "5  [[[0], [0], [0], [0], [0], [0], [0], [0], [0],...      1\n",
       "6  [[[0], [0], [0], [0], [0], [0], [0], [0], [0],...      2\n",
       "7  [[[0], [0], [0], [0], [0], [0], [0], [0], [0],...      7\n",
       "8  [[[0], [0], [0], [0], [0], [0], [0], [0], [0],...      1\n",
       "9  [[[0], [0], [0], [0], [0], [0], [0], [0], [0],...      6"
      ]
     },
     "execution_count": 5,
     "metadata": {},
     "output_type": "execute_result"
    }
   ],
   "source": [
    "examples"
   ]
  },
  {
   "cell_type": "code",
   "execution_count": 6,
   "metadata": {
    "id": "8_LhCMj2VK_m"
   },
   "outputs": [],
   "source": [
    "train, test = dataset['train'], dataset['test']"
   ]
  },
  {
   "cell_type": "code",
   "execution_count": 7,
   "metadata": {
    "id": "ypEZrtrYVW95"
   },
   "outputs": [],
   "source": [
    "validation_set_size = int(0.1 * info.splits['train'].num_examples)"
   ]
  },
  {
   "cell_type": "code",
   "execution_count": 8,
   "metadata": {
    "id": "aeRa3WX4VyRv"
   },
   "outputs": [],
   "source": [
    "def scale_image(image,label):\n",
    "    #Range : 0 - 1\n",
    "    image = tf.cast(image, tf.float32)\n",
    "    image /= 255.\n",
    "    return image, label"
   ]
  },
  {
   "cell_type": "code",
   "execution_count": 9,
   "metadata": {
    "id": "EabMJC7UzUl7"
   },
   "outputs": [],
   "source": [
    "train_scaled = train.map(scale_image)\n",
    "test_scaled = test.map(scale_image)"
   ]
  },
  {
   "cell_type": "code",
   "execution_count": 10,
   "metadata": {
    "id": "f1_YDNRQzk7x"
   },
   "outputs": [],
   "source": [
    "train_scaled = train_scaled.shuffle(200)"
   ]
  },
  {
   "cell_type": "code",
   "execution_count": 11,
   "metadata": {
    "id": "ia00W7BVz8Rr"
   },
   "outputs": [],
   "source": [
    "validation_scaled = train_scaled.take(validation_set_size)\n",
    "train_scaled = train_scaled.skip(validation_set_size)"
   ]
  },
  {
   "cell_type": "code",
   "execution_count": 12,
   "metadata": {
    "id": "AIUbxikk13X6"
   },
   "outputs": [],
   "source": [
    "batch_size = 64"
   ]
  },
  {
   "cell_type": "code",
   "execution_count": 13,
   "metadata": {
    "id": "ZsHl5atB1AVB"
   },
   "outputs": [],
   "source": [
    "train_scaled = train_scaled.batch(batch_size)\n",
    "validation_scaled = validation_scaled.batch(validation_set_size)\n",
    "test_scaled = test_scaled.batch(info.splits['test'].num_examples)"
   ]
  },
  {
   "cell_type": "code",
   "execution_count": 14,
   "metadata": {
    "id": "blZpX3NN2Q-m"
   },
   "outputs": [],
   "source": [
    "input_size = 784\n",
    "output_size = 10\n",
    "hidden_layer_neurons = 32\n",
    "epochs = 25"
   ]
  },
  {
   "cell_type": "markdown",
   "metadata": {
    "id": "BDF6Bvjm264d"
   },
   "source": [
    "Flatten - Transforms the 28x28x1 tensor into 784 long vector.\n",
    "<br>\n",
    "Dense - Activation(dot(wx)+b)\n",
    "<br>\n",
    "**Activation Function**\n",
    "<br>\n",
    "Hidden - Relu\n",
    "<br>\n",
    "Output - Softmax 10\n"
   ]
  },
  {
   "cell_type": "code",
   "execution_count": 15,
   "metadata": {
    "id": "pDoFBAi-2ylq"
   },
   "outputs": [],
   "source": [
    "model = tf.keras.Sequential([tf.keras.layers.Flatten(input_shape=(28, 28, 1), name = 'Input'),\n",
    "                             tf.keras.layers.Dense(hidden_layer_neurons, activation='relu', name = 'Hidden_1'),\n",
    "                             tf.keras.layers.Dense(hidden_layer_neurons, activation='relu', name = 'Hidden_2'),\n",
    "                             tf.keras.layers.Dense(output_size, activation='softmax', name = 'Output')\n",
    "                            ], name = 'MNIST_ffnn')"
   ]
  },
  {
   "cell_type": "code",
   "execution_count": 16,
   "metadata": {
    "colab": {
     "base_uri": "https://localhost:8080/"
    },
    "id": "yQjvysjx4OV2",
    "outputId": "ec7f61f8-7b9e-4915-9e52-6ee12e80b141"
   },
   "outputs": [
    {
     "name": "stdout",
     "output_type": "stream",
     "text": [
      "Model: \"MNIST_ffnn\"\n",
      "_________________________________________________________________\n",
      "Layer (type)                 Output Shape              Param #   \n",
      "=================================================================\n",
      "Input (Flatten)              (None, 784)               0         \n",
      "_________________________________________________________________\n",
      "Hidden_1 (Dense)             (None, 32)                25120     \n",
      "_________________________________________________________________\n",
      "Hidden_2 (Dense)             (None, 32)                1056      \n",
      "_________________________________________________________________\n",
      "Output (Dense)               (None, 10)                330       \n",
      "=================================================================\n",
      "Total params: 26,506\n",
      "Trainable params: 26,506\n",
      "Non-trainable params: 0\n",
      "_________________________________________________________________\n"
     ]
    }
   ],
   "source": [
    "model.summary()"
   ]
  },
  {
   "cell_type": "code",
   "execution_count": 17,
   "metadata": {
    "colab": {
     "base_uri": "https://localhost:8080/",
     "height": 532
    },
    "id": "AoCzW0XR-vbg",
    "outputId": "798c5ec0-9b45-47d4-bab0-6a8c6b25d2d6"
   },
   "outputs": [
    {
     "data": {
      "image/png": "[encoded data removed]",
      "text/plain": [
       "<IPython.core.display.Image object>"
      ]
     },
     "execution_count": 17,
     "metadata": {},
     "output_type": "execute_result"
    }
   ],
   "source": [
    "plot_model(model, show_shapes=True, show_layer_names=True)"
   ]
  },
  {
   "cell_type": "code",
   "execution_count": 18,
   "metadata": {
    "id": "g7gp-DGQ_RzA"
   },
   "outputs": [],
   "source": [
    "model.compile(optimizer='adam', loss='sparse_categorical_crossentropy', metrics=['accuracy'])"
   ]
  },
  {
   "cell_type": "markdown",
   "metadata": {
    "id": "OPKju2ZJ_s5f"
   },
   "source": [
    "Note : Use Sparse Categorical Crossentropy if labels are integers and Categorical Crossentropy if labels are one hot encoded.\n",
    "\n"
   ]
  },
  {
   "cell_type": "code",
   "execution_count": 19,
   "metadata": {
    "id": "Po0TlCBkALPe"
   },
   "outputs": [],
   "source": [
    "validation_inputs, validation_targets = next(iter(validation_scaled))"
   ]
  },
  {
   "cell_type": "code",
   "execution_count": 20,
   "metadata": {
    "colab": {
     "base_uri": "https://localhost:8080/"
    },
    "id": "x02hAXDDAWWQ",
    "outputId": "881f551c-acb0-471f-c7e5-fceb810b26b1"
   },
   "outputs": [
    {
     "name": "stdout",
     "output_type": "stream",
     "text": [
      "Epoch 1/25\n",
      "844/844 [==============================] - 9s 10ms/step - loss: 0.4509 - accuracy: 0.8709 - val_loss: 0.2455 - val_accuracy: 0.9242\n",
      "Epoch 2/25\n",
      "844/844 [==============================] - 4s 5ms/step - loss: 0.2189 - accuracy: 0.9366 - val_loss: 0.2025 - val_accuracy: 0.9380\n",
      "Epoch 3/25\n",
      "844/844 [==============================] - 5s 5ms/step - loss: 0.1748 - accuracy: 0.9489 - val_loss: 0.1766 - val_accuracy: 0.9460\n",
      "Epoch 4/25\n",
      "844/844 [==============================] - 4s 5ms/step - loss: 0.1488 - accuracy: 0.9566 - val_loss: 0.1632 - val_accuracy: 0.9522\n",
      "Epoch 5/25\n",
      "844/844 [==============================] - 5s 5ms/step - loss: 0.1300 - accuracy: 0.9619 - val_loss: 0.1488 - val_accuracy: 0.9577\n",
      "Epoch 6/25\n",
      "844/844 [==============================] - 4s 5ms/step - loss: 0.1159 - accuracy: 0.9658 - val_loss: 0.1456 - val_accuracy: 0.9587\n",
      "Epoch 7/25\n",
      "844/844 [==============================] - 4s 5ms/step - loss: 0.1040 - accuracy: 0.9695 - val_loss: 0.1445 - val_accuracy: 0.9577\n",
      "Epoch 8/25\n",
      "844/844 [==============================] - 5s 5ms/step - loss: 0.0947 - accuracy: 0.9722 - val_loss: 0.1398 - val_accuracy: 0.9595\n",
      "Epoch 9/25\n",
      "844/844 [==============================] - 5s 5ms/step - loss: 0.0861 - accuracy: 0.9748 - val_loss: 0.1361 - val_accuracy: 0.9623\n",
      "Epoch 10/25\n",
      "844/844 [==============================] - 4s 5ms/step - loss: 0.0799 - accuracy: 0.9761 - val_loss: 0.1360 - val_accuracy: 0.9623\n",
      "Epoch 11/25\n",
      "844/844 [==============================] - 5s 5ms/step - loss: 0.0727 - accuracy: 0.9780 - val_loss: 0.1391 - val_accuracy: 0.9627\n",
      "Epoch 12/25\n",
      "844/844 [==============================] - 4s 5ms/step - loss: 0.0678 - accuracy: 0.9799 - val_loss: 0.1314 - val_accuracy: 0.9623\n",
      "Epoch 13/25\n",
      "844/844 [==============================] - 5s 5ms/step - loss: 0.0626 - accuracy: 0.9820 - val_loss: 0.1370 - val_accuracy: 0.9632\n",
      "Epoch 14/25\n",
      "844/844 [==============================] - 5s 5ms/step - loss: 0.0592 - accuracy: 0.9823 - val_loss: 0.1352 - val_accuracy: 0.9623\n",
      "Epoch 15/25\n",
      "844/844 [==============================] - 5s 5ms/step - loss: 0.0545 - accuracy: 0.9844 - val_loss: 0.1388 - val_accuracy: 0.9628\n",
      "Epoch 16/25\n",
      "844/844 [==============================] - 5s 5ms/step - loss: 0.0505 - accuracy: 0.9855 - val_loss: 0.1381 - val_accuracy: 0.9630\n",
      "Epoch 17/25\n",
      "844/844 [==============================] - 5s 5ms/step - loss: 0.0475 - accuracy: 0.9859 - val_loss: 0.1384 - val_accuracy: 0.9638\n",
      "Epoch 18/25\n",
      "844/844 [==============================] - 5s 5ms/step - loss: 0.0447 - accuracy: 0.9869 - val_loss: 0.1483 - val_accuracy: 0.9625\n",
      "Epoch 19/25\n",
      "844/844 [==============================] - 5s 5ms/step - loss: 0.0413 - accuracy: 0.9883 - val_loss: 0.1527 - val_accuracy: 0.9613\n",
      "Epoch 20/25\n",
      "844/844 [==============================] - 5s 5ms/step - loss: 0.0393 - accuracy: 0.9890 - val_loss: 0.1519 - val_accuracy: 0.9635\n",
      "Epoch 21/25\n",
      "844/844 [==============================] - 5s 5ms/step - loss: 0.0367 - accuracy: 0.9895 - val_loss: 0.1534 - val_accuracy: 0.9618\n",
      "Epoch 22/25\n",
      "844/844 [==============================] - 5s 5ms/step - loss: 0.0350 - accuracy: 0.9901 - val_loss: 0.1607 - val_accuracy: 0.9623\n",
      "Epoch 23/25\n",
      "844/844 [==============================] - 5s 5ms/step - loss: 0.0315 - accuracy: 0.9910 - val_loss: 0.1695 - val_accuracy: 0.9612\n",
      "Epoch 24/25\n",
      "844/844 [==============================] - 5s 5ms/step - loss: 0.0318 - accuracy: 0.9905 - val_loss: 0.1715 - val_accuracy: 0.9607\n",
      "Epoch 25/25\n",
      "844/844 [==============================] - 5s 6ms/step - loss: 0.0289 - accuracy: 0.9915 - val_loss: 0.1729 - val_accuracy: 0.9615\n"
     ]
    },
    {
     "data": {
      "text/plain": [
       "<keras.callbacks.History at 0x7f73da0b0f50>"
      ]
     },
     "execution_count": 20,
     "metadata": {},
     "output_type": "execute_result"
    }
   ],
   "source": [
    "model.fit(train_scaled, epochs=epochs, validation_data=(validation_inputs, validation_targets), verbose = 1)"
   ]
  },
  {
   "cell_type": "code",
   "execution_count": 21,
   "metadata": {
    "colab": {
     "base_uri": "https://localhost:8080/"
    },
    "id": "FgB0cXvUApTV",
    "outputId": "92e7d84d-0394-47c0-f233-2fdfd700a35c"
   },
   "outputs": [
    {
     "name": "stdout",
     "output_type": "stream",
     "text": [
      "1/1 [==============================] - 1s 1s/step - loss: 0.1855 - accuracy: 0.9597\n"
     ]
    }
   ],
   "source": [
    "test_loss, test_accuracy = model.evaluate(test_scaled)"
   ]
  },
  {
   "cell_type": "code",
   "execution_count": 22,
   "metadata": {
    "colab": {
     "base_uri": "https://localhost:8080/"
    },
    "id": "nPglq12vB0GW",
    "outputId": "7c5dfc73-1b50-47ee-db03-ea91d2a6cd99"
   },
   "outputs": [
    {
     "name": "stdout",
     "output_type": "stream",
     "text": [
      "Test loss = 0.18550941348075867, Test accuracy = 95.97%\n"
     ]
    }
   ],
   "source": [
    "print(f'Test loss = {test_loss}, Test accuracy = {round((test_accuracy * 100), 2)}%')"
   ]
  },
  {
   "cell_type": "markdown",
   "metadata": {
    "id": "o-hj4WhECAvG"
   },
   "source": [
    "<hr>"
   ]
  }
 ],
 "metadata": {
  "colab": {
   "collapsed_sections": [],
   "name": "MNIST.ipynb",
   "provenance": []
  },
  "kernelspec": {
   "display_name": "Python 3 (ipykernel)",
   "language": "python",
   "name": "python3"
  },
  "language_info": {
   "codemirror_mode": {
    "name": "ipython",
    "version": 3
   },
   "file_extension": ".py",
   "mimetype": "text/x-python",
   "name": "python",
   "nbconvert_exporter": "python",
   "pygments_lexer": "ipython3",
   "version": "3.7.1"
  }
 },
 "nbformat": 4,
 "nbformat_minor": 1
}
